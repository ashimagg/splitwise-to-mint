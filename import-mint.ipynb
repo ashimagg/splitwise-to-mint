{
 "cells": [
  {
   "cell_type": "code",
   "execution_count": 9,
   "metadata": {},
   "outputs": [],
   "source": [
    "import csv\n",
    "import os\n",
    "import time\n",
    "import random\n",
    "from utils import request_util as rt\n",
    "from utils import payload_util as pt \n",
    "\n",
    "\n",
    "#Source - https://github.com/ukjimbow/mint-transactions/\n",
    "csv_name = 'data/splitwise-export.csv' # name of csv you you want import to mint [string.csv]\n",
    "verbose_output = 1 # should verbose messages be printed [0,1] \n",
    "min_wait = 0 # min wait time in seconds between requests, int[0-n]\n",
    "max_wait = 2 # max wait time in seconds between requests, int[0-n]\n",
    "\n",
    "#Import CSV using the pythons csv reader \n",
    "csv_object = csv.reader(open(csv_name,'r'))\n",
    "columns = next(csv_object)\n",
    "column_map = {}\n",
    "idx = 0\n",
    "for column in columns:\n",
    "    column_map[column] = idx\n",
    "    idx = idx + 1"
   ]
  },
  {
   "cell_type": "code",
   "execution_count": null,
   "metadata": {},
   "outputs": [],
   "source": [
    "for row in csv_object:\n",
    "    \n",
    "    transcation_date = row[column_map['Transaction Date']]    \n",
    "    description = row[column_map['Description']]\n",
    "    category_name = row[column_map['Category']]    \n",
    "    amount = str(-1 * float(row[column_map['I Owe']]))\n",
    "    \n",
    "    #category_id, category_name = ct.get_category(type_id, category_name)\n",
    "    \n",
    "    payload = pt.get_payload(transcation_date, description, None, category_name, amount)\n",
    "    curl_input = rt.curl_request(payload)\n",
    "    \n",
    "    #Submit CURL POST Request\n",
    "    curl_output = ''\n",
    "    curl_output = str(os.system(curl_input)) # use os sytem to run a curl request submitting the form post\n",
    "    \n",
    "    #Verbose Output for Debug\n",
    "    if verbose_output == 1:\n",
    "        print (f'{transcation_date}, {description}, {category_name}, {amount}')\n",
    "        print ('CURL Request:', curl_input) # what was sent to mint\n",
    "        print ('CURL Response:', curl_output) # what was returned from mint OR curl ERROR        \n",
    "\n",
    "    #Force a random wait between 2 and 5 seconds per requests to simulate UI and avoid rate limiting\n",
    "    time.sleep(random.randint(min_wait, max_wait))"
   ]
  },
  {
   "cell_type": "code",
   "execution_count": null,
   "metadata": {},
   "outputs": [],
   "source": []
  }
 ],
 "metadata": {
  "interpreter": {
   "hash": "aee8b7b246df8f9039afb4144a1f6fd8d2ca17a180786b69acc140d282b71a49"
  },
  "kernelspec": {
   "display_name": "Python 3.9.4 64-bit",
   "language": "python",
   "name": "python3"
  },
  "language_info": {
   "codemirror_mode": {
    "name": "ipython",
    "version": 3
   },
   "file_extension": ".py",
   "mimetype": "text/x-python",
   "name": "python",
   "nbconvert_exporter": "python",
   "pygments_lexer": "ipython3",
   "version": "3.9.4"
  },
  "orig_nbformat": 4
 },
 "nbformat": 4,
 "nbformat_minor": 2
}
