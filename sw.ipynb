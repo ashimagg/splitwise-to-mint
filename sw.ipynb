{
 "cells": [
  {
   "cell_type": "code",
   "execution_count": null,
   "metadata": {},
   "outputs": [],
   "source": [
    "from splitwise import Splitwise\n",
    "import pandas as pd\n",
    "from datetime import datetime, date\n",
    "from pytz import timezone\n",
    "\n",
    "#https://github.com/namaggarwal/splitwise\n",
    "#https://dev.splitwise.com\n",
    "sw = Splitwise(\"<consumer key>\",\"<consumer secret>\")\n",
    "current_user = sw.getCurrentUser()\n",
    "month_start = str(date(2022,7,1))\n",
    "month_end = str(date(2022,8,1))\n",
    "print(month_start)\n",
    "all_expenses = sw.getExpenses(dated_after=month_start, dated_before=month_end)\n",
    "print(f\"Total Expenses Fetched : {len(all_expenses)}\")\n",
    "groups = {group.getId():group for group in sw.getGroups()}"
   ]
  },
  {
   "cell_type": "code",
   "execution_count": 22,
   "metadata": {},
   "outputs": [],
   "source": [
    "expenses_processed = 0 \n",
    "excluded_categories = []\n",
    "custom_category_mapping = {'Music' : 'Subscriptions', 'Utilities - Other' : 'Subscriptions'}\n",
    "my_expenses = []\n",
    "for expense in all_expenses:   \n",
    "    total_expense_cost = expense.getCost()  \n",
    "    group_id = expense.getGroupId()  \n",
    "    created_by = expense.getCreatedBy().getFirstName()\n",
    "    for expense_user in expense.getUsers():        \n",
    "        if expense_user.getId() == current_user.getId():\n",
    "            \n",
    "            category_name = expense.getCategory().getName()\n",
    "            category_name = custom_category_mapping[category_name] if category_name in custom_category_mapping else category_name\n",
    "            i_paid = expense_user.getPaidShare()\n",
    "            i_owe = expense_user.getOwedShare()\n",
    "            \n",
    "            # I paid for the whole thing\n",
    "            # or I added a self-only expense\n",
    "            # or Excluded categories.\n",
    "            if \tnot (total_expense_cost == i_paid or i_paid == i_owe or i_owe == \"0.0\" or category_name in excluded_categories):\n",
    "                    \n",
    "                my_expense = {'Description' : expense.getDescription(), \n",
    "                'Total Amount' : total_expense_cost,\n",
    "                'Group' : groups[group_id].getName() if group_id in groups else None,\n",
    "                'Category' : category_name, \n",
    "                'Created By' : created_by,\n",
    "                'I Paid' : i_paid,\n",
    "                'I Owe' : i_owe,\n",
    "                'Transaction Date' : datetime.fromisoformat(expense.getDate()[0:19]).astimezone(timezone('US/Pacific')).strftime('%Y-%m-%d'),\n",
    "                'Post Date' : datetime.fromisoformat(expense.getCreatedAt()[0:19]).astimezone(timezone('US/Pacific')).strftime('%Y-%m-%d')\n",
    "                }\n",
    "                my_expenses.append(my_expense)\n",
    "                \n",
    "    expenses_processed += 1\n"
   ]
  },
  {
   "cell_type": "code",
   "execution_count": null,
   "metadata": {},
   "outputs": [],
   "source": [
    "df = pd.DataFrame(my_expenses)    \n",
    "df = df.sort_values(by=['Category'])\n",
    "df.to_csv('data/splitwise-export.csv', index=False)\n",
    "df"
   ]
  },
  {
   "cell_type": "code",
   "execution_count": null,
   "metadata": {},
   "outputs": [],
   "source": []
  }
 ],
 "metadata": {
  "interpreter": {
   "hash": "aee8b7b246df8f9039afb4144a1f6fd8d2ca17a180786b69acc140d282b71a49"
  },
  "kernelspec": {
   "display_name": "Python 3.9.4 64-bit",
   "language": "python",
   "name": "python3"
  },
  "language_info": {
   "codemirror_mode": {
    "name": "ipython",
    "version": 3
   },
   "file_extension": ".py",
   "mimetype": "text/x-python",
   "name": "python",
   "nbconvert_exporter": "python",
   "pygments_lexer": "ipython3",
   "version": "3.9.4"
  },
  "orig_nbformat": 4
 },
 "nbformat": 4,
 "nbformat_minor": 2
}
